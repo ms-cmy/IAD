{
 "cells": [
  {
   "cell_type": "code",
   "execution_count": 1,
   "metadata": {},
   "outputs": [],
   "source": [
    "import uproot\n",
    "import time\n",
    "import matplotlib.pyplot as plt\n",
    "import yaml\n",
    "import seaborn as sns\n",
    "import pandas as pd\n",
    "import awkward as ak\n",
    "import numpy as np\n",
    "import vector"
   ]
  },
  {
   "cell_type": "code",
   "execution_count": 2,
   "metadata": {},
   "outputs": [],
   "source": [
    "conf = yaml.load(open('/home/matheus/pessoal/notebooks_aleatorios/fbs/config.yml'), Loader=yaml.FullLoader)"
   ]
  },
  {
   "cell_type": "code",
   "execution_count": 3,
   "metadata": {},
   "outputs": [],
   "source": [
    "file = uproot.open(conf['root_url'])\n",
    "tree = file['Events;1']"
   ]
  },
  {
   "cell_type": "code",
   "execution_count": 4,
   "metadata": {},
   "outputs": [],
   "source": [
    "nMuon = tree['nMuon'].array()\n",
    "muon_pt = tree['Muon_pt'].array()\n",
    "muon_eta = tree['Muon_eta'].array()\n",
    "muon_mass = tree['Muon_mass'].array()"
   ]
  },
  {
   "cell_type": "code",
   "execution_count": 12,
   "metadata": {},
   "outputs": [],
   "source": [
    "muon_phi = tree['Muon_phi'].array()"
   ]
  },
  {
   "cell_type": "code",
   "execution_count": 13,
   "metadata": {},
   "outputs": [
    {
     "name": "stdout",
     "output_type": "stream",
     "text": [
      "len do nMuon: 1933726\n",
      "len do muon_pt: 1933726\n",
      "len do muon_eta: 1933726\n",
      "len do muon_phi: 1933726\n"
     ]
    }
   ],
   "source": [
    "print(f'len do nMuon: {len(nMuon)}')\n",
    "print(f'len do muon_pt: {len(muon_pt)}')\n",
    "print(f'len do muon_eta: {len(muon_eta)}')\n",
    "print(f'len do muon_phi: {len(muon_phi)}')"
   ]
  },
  {
   "cell_type": "code",
   "execution_count": 6,
   "metadata": {},
   "outputs": [],
   "source": [
    "def tratamento_any(vector):\n",
    "    return ak.to_numpy(ak.fill_none(ak.pad_none(vector, np.max(ak.num(vector))), np.nan))"
   ]
  },
  {
   "cell_type": "markdown",
   "metadata": {},
   "source": [
    "fazendo filtro para 2 n muons"
   ]
  },
  {
   "cell_type": "code",
   "execution_count": 25,
   "metadata": {},
   "outputs": [],
   "source": [
    "mask = nMuon==1"
   ]
  },
  {
   "cell_type": "code",
   "execution_count": 26,
   "metadata": {},
   "outputs": [
    {
     "data": {
      "text/html": [
       "<pre>[[16],\n",
       " [20.9],\n",
       " [3.81],\n",
       " [54.5],\n",
       " [5.89],\n",
       " [3.29],\n",
       " [2.39e+03],\n",
       " [38.7],\n",
       " [19.7],\n",
       " [3.13],\n",
       " ...,\n",
       " [15.9],\n",
       " [9.25],\n",
       " [4.66],\n",
       " [4.19],\n",
       " [3.5],\n",
       " [10.6],\n",
       " [15.1],\n",
       " [3.2],\n",
       " [3.86]]\n",
       "----------------------------\n",
       "type: 417820 * var * float32</pre>"
      ],
      "text/plain": [
       "<Array [[16], [20.9], [3.81], ..., [3.2], [3.86]] type='417820 * var * float32'>"
      ]
     },
     "execution_count": 26,
     "metadata": {},
     "output_type": "execute_result"
    }
   ],
   "source": [
    "muon_pt[mask]"
   ]
  },
  {
   "cell_type": "code",
   "execution_count": 27,
   "metadata": {},
   "outputs": [],
   "source": [
    "muon_p4 = vector.zip({\n",
    "    \"pt\": muon_pt[mask],\n",
    "    \"eta\": muon_eta[mask],\n",
    "    \"phi\": muon_phi[mask],\n",
    "    \"mass\": muon_mass[mask],\n",
    "})"
   ]
  },
  {
   "cell_type": "code",
   "execution_count": 28,
   "metadata": {},
   "outputs": [
    {
     "data": {
      "image/png": "[encoded data removed]",
      "text/plain": [
       "<Figure size 640x480 with 1 Axes>"
      ]
     },
     "metadata": {},
     "output_type": "display_data"
    }
   ],
   "source": [
    "plt.hist(ak.flatten(muon_p4['eta']), bins=100)\n",
    "plt.show()"
   ]
  }
 ],
 "metadata": {
  "kernelspec": {
   "display_name": "root_cern",
   "language": "python",
   "name": "python3"
  },
  "language_info": {
   "codemirror_mode": {
    "name": "ipython",
    "version": 3
   },
   "file_extension": ".py",
   "mimetype": "text/x-python",
   "name": "python",
   "nbconvert_exporter": "python",
   "pygments_lexer": "ipython3",
   "version": "3.12.7"
  }
 },
 "nbformat": 4,
 "nbformat_minor": 2
}
