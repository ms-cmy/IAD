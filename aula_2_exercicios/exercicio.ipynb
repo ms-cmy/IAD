{
 "cells": [
  {
   "cell_type": "code",
   "execution_count": 1,
   "metadata": {},
   "outputs": [],
   "source": [
    "import numpy as np\n",
    "from scipy import stats\n",
    "import seaborn as sns"
   ]
  },
  {
   "cell_type": "markdown",
   "metadata": {},
   "source": [
    "dado os pontos $(x_1, y_1), (x_2, y_2), \\dots, (x_n, y_n)$, para \"fittá-los\" em um modelo linear:\n",
    "\n",
    "$$\n",
    "\\hat{y} = \\beta_0 + \\beta_1 x\n",
    "$$\n",
    "\n",
    "- $\\hat{y}$ é o valor previsto a partir da modelagem de: $y$, $\\beta_0$, $\\beta_1$.\n",
    "- $\\beta_0$ é a interceptação (intercept) da curva com o eixo y e $\\beta_1$ é o coeficiente angular \n",
    "\n",
    "## Primeiro passo: definimos o resíduo da curva\n",
    "\n",
    "para cada ponto $(x_i, y_i)$, o resíduo (ou erro) é a diferença observada entre $y_i$ e $\\hat{y}_i$, onde \"y chapéu\" é $\\hat{y}_i = \\beta_0 + \\beta_1 x_i$:\n",
    "\n",
    "$$\n",
    "\\text{Erro ou Resíduo} = y_i - \\hat{y}_i = y_i - (\\beta_0 + \\beta_1 x_i)\n",
    "$$\n",
    "\n",
    "Em uma regressão linear, temos como meta minimizar esses resíduos dado um valor para ($\\beta_0$, $\\beta_1$):\n",
    "\n",
    "$$\n",
    "S(\\beta_0, \\beta_1) = \\sum_{i=1}^{n} (y_i - (\\beta_0 + \\beta_1 x_i))^2\n",
    "$$\n",
    "\n",
    "Para o caso que queremos de alguma maneira influenciar no cálculo do erro ($\\beta_0$, $\\beta_1$), esse é o momento de fazer modificações, já que essa é a equação que iremos derivar e isolar e encontrar $\\beta_0$ e $\\beta_1$.\n",
    "\n",
    "Para adicionar os erros, vamos adicionar (somente na parte direita da equação) o valor $1/\\sigma_i^2$, onde é algum erro externo que identificamos para cada valor de $y_i$:\n",
    "\n",
    "$$\n",
    "S(\\beta_0, \\beta_1) = \\sum_{i=1}^{n} \\left(\\frac{y_i - (\\beta_0 + \\beta_1 x_i)}{\\sigma_i}\\right)^2\n",
    "$$\n",
    "\n",
    "notando que, nesse step podemos fazer **qualquer** modificação para ter outros valores de $\\beta_0$ e $\\beta_1$, por exemplo:\n",
    "\n",
    "A regressão de Lasso:\n",
    "\n",
    "$$\n",
    "S(\\beta_0, \\beta_1) = \\sum_{i=1}^{n} (y_i - (\\beta_0 + \\beta_1 x_i))^2 + \\lambda \\sum_{i=1}^{n} |\\beta_i|\n",
    "$$\n",
    "\n",
    "dessa maneira, penalizamos caso o valor de $\\beta_0$ e $\\beta_1$ caso sejam muito grandes, entre outras diversas formas de fazer reg. lineares\n",
    "\n",
    "\n",
    "## Step 2: Minimizando (derivando) S:\n",
    "\n",
    "Para encontrar os valores que melhor se adequam aos nossos dados, fazemos as derivadas parciais de S por $\\beta_0$ e $\\beta_1$ e igualamos a zero\n",
    "\n",
    "### Derivada parcial de $\\beta_0$:\n",
    "\n",
    "$$\n",
    "\\frac{\\partial S}{\\partial \\beta_0} = -2 \\sum_{i=1}^{n} \\frac{1}{\\sigma_i^2} (y_i - \\beta_0 - \\beta_1 x_i) = 0\n",
    "$$\n",
    "\n",
    "simplificando:\n",
    "\n",
    "$$\n",
    "\\sum_{i=1}^{n} \\frac{y_i}{\\sigma_i^2} = \\beta_0 \\sum_{i=1}^{n} \\frac{1}{\\sigma_i^2} + \\beta_1 \\sum_{i=1}^{n} \\frac{x_i}{\\sigma_i^2} \n",
    "$$\n",
    "\n",
    "### Derivada parcial de $\\beta_1$:\n",
    "\n",
    "$$\n",
    "\\frac{\\partial S}{\\partial \\beta_1} = -2 \\sum_{i=1}^{n} \\frac{x_i}{\\sigma_i^2} (y_i - \\beta_0 - \\beta_1 x_i) = 0\n",
    "$$\n",
    "\n",
    "simplificando:\n",
    "\n",
    "$$\n",
    "\\sum_{i=1}^{n} \\frac{x_i y_i}{\\sigma_i^2} = \\beta_0 \\sum_{i=1}^{n} \\frac{x_i}{\\sigma_i^2} + \\beta_1 \\sum_{i=1}^{n} \\frac{x_i^2}{\\sigma_i^2}\n",
    "$$\n",
    "\n",
    "## Resolvendo para $\\beta_0$ e $\\beta_1$\n",
    "\n",
    "Definimos as seguintes variáveis para melhor visualizar as equações definidas acima:\n",
    "\n",
    "$$\n",
    "S = \\sum_{i=1}^{n} \\frac{1}{\\sigma_i^2}, \\quad\n",
    "S_x = \\sum_{i=1}^{n} \\frac{x_i}{\\sigma_i^2}, \\quad\n",
    "S_y = \\sum_{i=1}^{n} \\frac{y_i}{\\sigma_i^2}, \\quad\n",
    "S_{xx} = \\sum_{i=1}^{n} \\frac{x_i^2}{\\sigma_i^2}, \\quad\n",
    "S_{xy} = \\sum_{i=1}^{n} \\frac{x_i y_i}{\\sigma_i^2}\n",
    "$$\n",
    "\n",
    "Assim temos:\n",
    "\n",
    "$$\n",
    "S_y = \\beta_0 S + \\beta_1 S_x\n",
    "$$\n",
    "\n",
    "$$\n",
    "S_{xy} = \\beta_0 S_x + \\beta_1 S_{xx}\n",
    "$$\n",
    "\n",
    "Resolvendo esse sistema de equações, encontramos os betas:\n",
    "\n",
    "$$\n",
    "\\beta_1 = \\frac{S S_{xy} - S_x S_y}{S S_{xx} - S_x^2}\n",
    "$$\n",
    "\n",
    "$$\n",
    "\\beta_0 = \\frac{S_{xx} S_y - S_x S_{xy}}{S S_{xx} - S_x^2}\n",
    "$$\n",
    "\n",
    "## Equação final\n",
    "\n",
    "E a expressão final:\n",
    "\n",
    "$$\n",
    "\\hat{y} = \\beta_0 + \\beta_1 x\n",
    "$$\n",
    "\n",
    "Onde $\\beta_0$ e $\\beta_1$ foram definidos acima. Caso o erro seja maior para um ponto específico, ele terá menos impacto no valor final dos nossos betas."
   ]
  },
  {
   "cell_type": "markdown",
   "metadata": {},
   "source": [
    "Observando utilizando bibliotecas de python:"
   ]
  },
  {
   "cell_type": "code",
   "execution_count": 12,
   "metadata": {},
   "outputs": [],
   "source": [
    "x = np.array([0.1, 0.2, 0.3, 0.4, 0.5])\n",
    "y = np.array([1.2, 2.1, 3.3, 3.8, 5.2])\n",
    "y_err = np.array([0.2, 0.15, 0.3, 0.25, 0.1])  \n",
    "\n",
    "slope, intercept, r_value, p_value, std_err = stats.linregress(x, y)\n",
    "\n",
    "weights = 1.0 / y_err**2  \n",
    "w_slope, w_intercept = np.polyfit(x, y, 1, w=weights)\n"
   ]
  },
  {
   "cell_type": "code",
   "execution_count": 15,
   "metadata": {},
   "outputs": [
    {
     "data": {
      "text/plain": [
       "<Axes: >"
      ]
     },
     "execution_count": 15,
     "metadata": {},
     "output_type": "execute_result"
    },
    {
     "data": {
      "image/png": "[encoded data removed]",
      "text/plain": [
       "<Figure size 640x480 with 1 Axes>"
      ]
     },
     "metadata": {},
     "output_type": "display_data"
    }
   ],
   "source": [
    "sns.scatterplot(x=x, y=y)\n",
    "sns.lineplot(x=x, y=intercept + slope*x, color='red', label=\"sem erros\")\n",
    "sns.lineplot(x=x, y=w_intercept + w_slope*x, color='green', label=\"com erros\")"
   ]
  },
  {
   "cell_type": "code",
   "execution_count": 4,
   "metadata": {},
   "outputs": [],
   "source": [
    "N_Total = 2567\n",
    "N_background = 1223.5\n",
    "L = 25  # fb^-1\n",
    "syst_unc_L = 0.10  "
   ]
  },
  {
   "cell_type": "code",
   "execution_count": 17,
   "metadata": {},
   "outputs": [
    {
     "name": "stdout",
     "output_type": "stream",
     "text": [
      " (σ): 53.74 fb\n",
      "erro estatistico: 85.64413502835902 fb\n",
      "erro sistematico: 5.3740000000000006 fb\n",
      "valor: 53.74 +- 85.64413502835902 +- 5.3740000000000006\n"
     ]
    }
   ],
   "source": [
    "sigma = (N_Total - N_background) / L\n",
    "\n",
    "# erro statistico\n",
    "stat_unc_sigma = np.sqrt(N_Total) + np.sqrt(N_background)\n",
    "\n",
    "# error systematico\n",
    "syst_unc_sigma = sigma * syst_unc_L\n",
    "\n",
    "# Print results\n",
    "print(\" (σ):\", sigma, \"fb\")\n",
    "print(\"erro estatistico:\", stat_unc_sigma, \"fb\")\n",
    "print(\"erro sistematico:\", syst_unc_sigma, \"fb\")\n",
    "print(f\"valor: {sigma} +- {stat_unc_sigma} +- {syst_unc_sigma}\")"
   ]
  },
  {
   "cell_type": "code",
   "execution_count": null,
   "metadata": {},
   "outputs": [],
   "source": []
  }
 ],
 "metadata": {
  "kernelspec": {
   "display_name": "fis2",
   "language": "python",
   "name": "python3"
  },
  "language_info": {
   "codemirror_mode": {
    "name": "ipython",
    "version": 3
   },
   "file_extension": ".py",
   "mimetype": "text/x-python",
   "name": "python",
   "nbconvert_exporter": "python",
   "pygments_lexer": "ipython3",
   "version": "3.12.7"
  }
 },
 "nbformat": 4,
 "nbformat_minor": 2
}
